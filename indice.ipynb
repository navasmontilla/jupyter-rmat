{
  "nbformat": 4,
  "nbformat_minor": 0,
  "metadata": {
    "kernelspec": {
      "display_name": "Python 3",
      "language": "python",
      "name": "python3"
    },
    "language_info": {
      "codemirror_mode": {
        "name": "ipython",
        "version": 3
      },
      "file_extension": ".py",
      "mimetype": "text/x-python",
      "name": "python",
      "nbconvert_exporter": "python",
      "pygments_lexer": "ipython3",
      "version": "3.7.8"
    },
    "colab": {
      "name": "indice.ipynb",
      "provenance": []
    }
  },
  "cells": [
    {
      "cell_type": "markdown",
      "metadata": {
        "id": "8pTO0HXa3OkW",
        "colab_type": "text"
      },
      "source": [
        "### Contenido\n",
        "\n",
        "Este repositorio consta de dos notebooks:\n",
        "- [Problema 5 (tema 6)](notebooks/P5.ipynb) \n",
        "- [Problema 6 (tema 4)](notebooks/P6.ipynb)\n",
        "\n",
        "asdf"
      ]
    }
  ]
}