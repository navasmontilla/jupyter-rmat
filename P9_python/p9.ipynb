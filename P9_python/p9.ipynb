{
 "cells": [
  {
   "cell_type": "markdown",
   "metadata": {},
   "source": [
    "> **Problema 9 (hoja de problemas)**.  \n",
    "\n",
    "Del siguiente diagrama tensión/deformación:\n",
    "\n",
    " - (a) Identifique sobre la gráfica la resistencia mecánica a tracción de los dos materiales que allí se representan.\n",
    " - (b) Obtenga también la tensión máxima admisible para ambos materiales si se ha de trabajar con un factor de seguridad $n$=2.\n",
    " - (c) ¿Cuál de los dos materiales es más rígido? ¿Cuál es más resistente? ¿Cuál es el más dúctil?\n",
    " - (d) (NUEVO PYTHON) Representar la tensón máxima admisible del material 1 en función del coeficiente de seguridad?\n",
    " \n",
    " <img style=\"float: center;\" src=\"p9.png\">\n"
   ]
  },
  {
   "cell_type": "markdown",
   "metadata": {},
   "source": [
    "---\n",
    "\n",
    "*Respuesta apartado (a)*\n",
    "\n",
    "Tensión límite material 1, $\\sigma_1=350 N/m^2$  porque plastifica a esa tensión\n",
    "\n",
    "Tensión límite material 2, $\\sigma_2=475 N/m^2$  porque se rompe a esa tensión\n",
    "\n",
    "---"
   ]
  },
  {
   "cell_type": "code",
   "execution_count": 2,
   "metadata": {},
   "outputs": [
    {
     "name": "stdout",
     "output_type": "stream",
     "text": [
      "Respuesta apartado (b)\n",
      "Tensión máxima admisible para el material 1 es de 175.0 N/m^2  teniendo en cuenta factor de seguriad n= 2\n",
      "Tensión máxima admisible para el material 2 es de 237.5 N/m^2  teniendo en cuenta factor de seguriad n= 2\n"
     ]
    }
   ],
   "source": [
    "# Apartado (b)\n",
    "import math                     # Librería para utilizar símbolos matemáticos como el número pi, que se escribe como math.pi\n",
    "\n",
    "# Resolver aquí el ejercicio\n",
    "\n",
    "n = 2 # Coeficiente de seguridad\n",
    "tensionlim1 =350.0 # N/m^2\n",
    "tensionlim2 =475.0 # N/m^2\n",
    "\n",
    "maxadm1 = tensionlim1/n # Tensión máxima admisible para el material 1 teniendo en cuenta factor de seguriad\n",
    "maxadm2 = tensionlim2/n # Tensión máxima admisible para el material 2 teniendo en cuenta factor de seguriad\n",
    "\n",
    "\n",
    "# Pintar los resultados por pantalla\n",
    "print(\"Respuesta apartado (b)\")\n",
    "print(\"Tensión máxima admisible para el material 1 es de\",maxadm1,\"N/m^2  teniendo en cuenta factor de seguriad n=\",n)\n",
    "print(\"Tensión máxima admisible para el material 2 es de\",maxadm2,\"N/m^2  teniendo en cuenta factor de seguriad n=\",n)\n"
   ]
  },
  {
   "cell_type": "markdown",
   "metadata": {},
   "source": [
    "---\n",
    "\n",
    "*Respuesta apartado (b)*\n",
    "\n",
    "+ Es más rígido el material 2, ya que se opone más que el material 2 a ser deformado\n",
    "+ Es más resistente el material 1 porque soporta más tensión antes de romperse que el material 2.\n",
    "+ Dúctil es el antónimo de rígido. Es más dúctil el material 1.\n",
    "\n",
    "---"
   ]
  },
  {
   "cell_type": "code",
   "execution_count": 7,
   "metadata": {},
   "outputs": [
    {
     "name": "stdout",
     "output_type": "stream",
     "text": [
      "Respuesta apartado (d)\n",
      "La función que vas a representar es: f(x) =  350.0/x\n"
     ]
    },
    {
     "data": {
      "text/plain": [
       "<matplotlib.legend.Legend at 0x1c4c480d088>"
      ]
     },
     "execution_count": 7,
     "metadata": {},
     "output_type": "execute_result"
    },
    {
     "data": {
      "image/png": "[encoded data removed]",
      "text/plain": [
       "<Figure size 432x288 with 1 Axes>"
      ]
     },
     "metadata": {
      "needs_background": "light"
     },
     "output_type": "display_data"
    }
   ],
   "source": [
    "# No hay que asustarse por las siguientes líneas. Leed los comentarios y veréis que no es tan horrible como parece.\n",
    "# Adaptar para responder al apartado (d)\n",
    "\n",
    "from sympy import *             # Librería para trabajo simbólico\n",
    "import math                     # Librería para utilizar símbolos matemáticos como el número pi, que se escribe como math.pi\n",
    "import numpy as np              # Librería para poder trabajar con matrices y vectores\n",
    "import matplotlib.pyplot as plt # Librería para poder dibujar gráficas\n",
    "\n",
    "x=symbols('x')  # Gracias a la librería sympy, podemos utilizar aquí la x como si fuera un símbolo, en lugar de tener un valor\n",
    "                # dado. Más adelante veremos que se pueden hacer derivadas e integrales!!\n",
    "\n",
    "print(\"Respuesta apartado (d)\")    \n",
    "# Lo necesitamos del apartado anterior    \n",
    "tensionlim1 =350.0 # N/m^2\n",
    "\n",
    "#-------------------------------------------------------------------------------------#\n",
    "# Define aquí tu función\n",
    "def func_x(x):        \n",
    "    return  tensionlim1/x  # Tensión máxima admisible para el material 1 teniendo en cuenta factor de seguriad n \n",
    "                           # Aquí n se sutituye por x\n",
    "#-------------------------------------------------------------------------------------#\n",
    "\n",
    "# Se \"abrevia\" la notación (mejor escribir f que func_x(x))\n",
    "f=func_x(x) # A partir de aquí la función se llamará simplemente f\n",
    "print(\"La función que vas a representar es: f(x) = \",f)\n",
    "\n",
    "# Se guardan los valores x y f(x) en dos listas para pintarlos después.\n",
    "Xmin= 1 ; Xmax=10; nopto=10 # (Xmin,Xmax,nopto) = (extremo inferior, extremo superior, número de puntos que se pintan)\n",
    "xx=np.zeros((nopto,1)) # Una lista (vector) de nopto zeros. Contendrá todos los valores x que se van a utilizar\n",
    "ff=np.zeros((nopto,1)) # Una lista (vector) de nopto zeros. Contendrá todos los valores de f(x) que se van a pintar\n",
    "\n",
    "for i in range(0,nopto):                 # Loop!! La i toma valores en el intervalo [0,nopto) (El último valor no se toma)     \n",
    "    xx[i] = Xmin+i*(Xmax-Xmin)/(nopto-1) # Se asignan los valores a xx\n",
    "    ff[i]=f.subs(x,xx[[i]])              # Se asignan los valores a la función. \n",
    "                                         # f.subs sustituye en cada x el valor dado por xx    \n",
    "    #print(xx[i],ff[i])                  # Descomentar par ver los valores por pantalla\n",
    "\n",
    "\n",
    "# Se pinta f(x) en función de x\n",
    "filename=\"problema9\"\n",
    "fig, ax = plt.subplots()  # Esto es como decir \"Abracadabra! Hágase la figura!\". \n",
    "                          # Se genera un objeto figura que definimos a continuación\n",
    "ax.plot(xx,ff, color=\"blue\", label=\"Tensión máxima admisible material 1 ($N/m^2$)\") # Se le dice a Python, ¡¡¡pinta f(x)!!!\n",
    "ax.plot(xx,ff, color=\"blue\", label=\"Tensión máxima admisible material 1 ($N/m^2$)\",linewidth=0, marker='.', markersize=15) # Se le dice a Python, ¡¡¡pinta f(x)!!!\n",
    "ax.set_xlabel(\"n (factor de seguridad)\") # Nombre y unidades del eje x\n",
    "#ax.set_ylabel(\"Tensión máxima admisible material 1 ($N/m^2$)\") # Nombre y unidades del eje y\n",
    "ax.legend() # Hace que se pinte la leyenda\n",
    "\n"
   ]
  },
  {
   "cell_type": "code",
   "execution_count": null,
   "metadata": {},
   "outputs": [],
   "source": []
  }
 ],
 "metadata": {
  "kernelspec": {
   "display_name": "Python 3",
   "language": "python",
   "name": "python3"
  },
  "language_info": {
   "codemirror_mode": {
    "name": "ipython",
    "version": 3
   },
   "file_extension": ".py",
   "mimetype": "text/x-python",
   "name": "python",
   "nbconvert_exporter": "python",
   "pygments_lexer": "ipython3",
   "version": "3.7.4"
  }
 },
 "nbformat": 4,
 "nbformat_minor": 2
}
